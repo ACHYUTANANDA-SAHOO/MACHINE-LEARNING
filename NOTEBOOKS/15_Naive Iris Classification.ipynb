{
 "cells": [
  {
   "cell_type": "markdown",
   "id": "9e9c3fa6",
   "metadata": {},
   "source": [
    "# Experiment 15 : Naive Iris Classification"
   ]
  },
  {
   "cell_type": "code",
   "execution_count": 2,
   "id": "2e7d3d7a",
   "metadata": {},
   "outputs": [
    {
     "name": "stdout",
     "output_type": "stream",
     "text": [
      "Confusion Matrix of GNB \n",
      " [[50  0  0]\n",
      " [ 0 47  3]\n",
      " [ 0  3 47]]\n",
      "Confusion Matrix of MNB \n",
      " [[50  0  0]\n",
      " [ 0 46  4]\n",
      " [ 0  3 47]]\n"
     ]
    }
   ],
   "source": [
    "#Import Necessary Libraries and functions\n",
    "from sklearn.naive_bayes import GaussianNB\n",
    "from sklearn.naive_bayes import MultinomialNB\n",
    "from sklearn import datasets\n",
    "from sklearn.metrics import confusion_matrix\n",
    "\n",
    "#Load the iris dataset\n",
    "iris = datasets.load_iris()\n",
    "\n",
    "#GaussianNB and MultinomialNB Models\n",
    "gnb = GaussianNB()\n",
    "mnb = MultinomialNB()\n",
    "\n",
    "##Train both GaussianNB and MultinomialNB Models and print their confusion matrices\n",
    "y_pred_gnb = gnb.fit(iris.data, iris.target).predict(iris.data)\n",
    "cnf_matrix_gnb = confusion_matrix(iris.target, y_pred_gnb)\n",
    "print(\"Confusion Matrix of GNB \\n\",cnf_matrix_gnb)\n",
    "\n",
    "y_pred_mnb = mnb.fit(iris.data, iris.target).predict(iris.data)\n",
    "cnf_matrix_mnb = confusion_matrix(iris.target, y_pred_mnb)\n",
    "print(\"Confusion Matrix of MNB \\n\",cnf_matrix_mnb)\n"
   ]
  }
 ],
 "metadata": {
  "kernelspec": {
   "display_name": "Python 3 (ipykernel)",
   "language": "python",
   "name": "python3"
  },
  "language_info": {
   "codemirror_mode": {
    "name": "ipython",
    "version": 3
   },
   "file_extension": ".py",
   "mimetype": "text/x-python",
   "name": "python",
   "nbconvert_exporter": "python",
   "pygments_lexer": "ipython3",
   "version": "3.10.9"
  }
 },
 "nbformat": 4,
 "nbformat_minor": 5
}
