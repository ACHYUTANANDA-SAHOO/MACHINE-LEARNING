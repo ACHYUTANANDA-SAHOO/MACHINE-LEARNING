{
 "cells": [
  {
   "cell_type": "markdown",
   "id": "103ad81c",
   "metadata": {},
   "source": [
    "# Experiment 6 : Naive Bayes Algorithm"
   ]
  },
  {
   "cell_type": "markdown",
   "id": "7105a3e2",
   "metadata": {},
   "source": [
    "Write a program to implement Naïve Bayes  algorithm in python and  to display the results  using confusion matrix and accuracy. Java/Python ML library classes can be used for this problem."
   ]
  },
  {
   "cell_type": "code",
   "execution_count": 39,
   "id": "ddca4ff4",
   "metadata": {},
   "outputs": [
    {
     "name": "stdout",
     "output_type": "stream",
     "text": [
      "[['D1', 'Sunny', 'Hot', 'High', 'Weak', 'No'], ['D2', 'Sunny', 'Hot', 'High', 'Strong', 'No'], ['D3', 'Overcast', 'Hot', 'High', 'Weak', 'Yes'], ['D4', 'Rain', 'Mild', 'High', 'Weak', 'Yes'], ['D5', 'Rain', 'Cool', 'Normal', 'Weak', 'Yes'], ['D6', 'Rain', 'Cool', 'Normal', 'Strong', 'No'], ['D7', 'Overcast', 'Cool', 'Normal', 'Strong', 'Yes'], ['D8', 'Sunny', 'Mild', 'High', 'Weak', 'No'], ['D9', 'Sunny', 'Cool', 'Normal', 'Weak', 'Yes'], ['D10', 'Rain', 'Mild', 'Normal', 'Weak', 'Yes'], ['D11', 'Sunny', 'Mild', 'Normal', 'Strong', 'Yes'], ['D12', 'Overcast', 'Mild', 'High', 'Strong', 'Yes'], ['D13', 'Overcast', 'Hot', 'Normal', 'Weak', 'Yes'], ['D14', 'Rain', 'Mild', 'High', 'Strong', 'No']]\n"
     ]
    }
   ],
   "source": [
    "import csv\n",
    "a = []\n",
    "\n",
    "with open('play_tennis.csv','r') as dataset:\n",
    "    for i in csv.reader(dataset):\n",
    "        a.append(i)\n",
    "\n",
    "a.pop(0)\n",
    "\n",
    "print(a)"
   ]
  },
  {
   "cell_type": "code",
   "execution_count": 40,
   "id": "933a411e",
   "metadata": {},
   "outputs": [
    {
     "name": "stdout",
     "output_type": "stream",
     "text": [
      "Attribute 1Sunny\n",
      "Attribute 2Cool\n",
      "Attribute 3High\n",
      "Attribute 4Strong\n",
      "The given case is : ['Sunny', 'Cool', 'High', 'Strong']\n"
     ]
    }
   ],
   "source": [
    "case = []\n",
    "for i in range(0,no_attributes):\n",
    "    x = input(\"Attribute \" + str(i+1))\n",
    "    case.append(x)\n",
    "\n",
    "print(\"The given case is : \" + str(case))"
   ]
  },
  {
   "cell_type": "code",
   "execution_count": 27,
   "id": "2a4a3745",
   "metadata": {},
   "outputs": [
    {
     "name": "stdout",
     "output_type": "stream",
     "text": [
      "9\n",
      "5\n"
     ]
    }
   ],
   "source": [
    "no_attributes = len(a[0]) - 2\n",
    "\n",
    "positive = 0\n",
    "negative = 0\n",
    "\n",
    "# finding positive and negative instances\n",
    "\n",
    "for i in range(0,len(a)):\n",
    "    if(a[i][len(a[i]) - 1] == \"Yes\"):\n",
    "        positive = positive + 1 \n",
    "    if(a[i][len(a[i]) - 1] == \"No\"):\n",
    "        negative = negative + 1\n",
    "        \n",
    "print(positive)\n",
    "print(negative)"
   ]
  },
  {
   "cell_type": "code",
   "execution_count": 25,
   "id": "784d8f9a",
   "metadata": {},
   "outputs": [
    {
     "name": "stdout",
     "output_type": "stream",
     "text": [
      "0.6428571428571429\n",
      "0.35714285714285715\n"
     ]
    }
   ],
   "source": [
    "#finding positive and negative probabilities\n",
    "prob_pos = positive/len(a)\n",
    "prob_neg = negative/len(a)\n",
    "\n",
    "print(prob_pos)\n",
    "print(prob_neg)"
   ]
  },
  {
   "cell_type": "code",
   "execution_count": 59,
   "id": "5c89a1cf",
   "metadata": {},
   "outputs": [
    {
     "name": "stdout",
     "output_type": "stream",
     "text": [
      "0.005291005291005291\n",
      "0.02057142857142857\n"
     ]
    }
   ],
   "source": [
    "NB_pos = prob_pos\n",
    "NB_neg = prob_neg\n",
    "\n",
    "j = 1\n",
    "count_pos = 0\n",
    "count_neg = 0\n",
    "\n",
    "for i in range(1,no_attributes+1):\n",
    "    count_pos = 0\n",
    "    count_neg = 0\n",
    "    for j in range(0,len(a)):\n",
    "        if case[i-1] in a[j]:\n",
    "            if(a[j][len(a[0])-1] == \"Yes\"):\n",
    "                count_pos = count_pos + 1\n",
    "            if(a[j][len(a[0])-1] == \"No\"):\n",
    "                count_neg = count_neg + 1\n",
    "    # print(count_pos,count_neg)\n",
    "    x = count_pos/positive\n",
    "    y = count_neg/negative\n",
    "    \n",
    "    NB_pos = NB_pos * x\n",
    "    NB_neg = NB_neg * y\n",
    "\n",
    "print(NB_pos)\n",
    "print(NB_neg)\n",
    "        "
   ]
  },
  {
   "cell_type": "code",
   "execution_count": 60,
   "id": "59bbf34a",
   "metadata": {},
   "outputs": [
    {
     "name": "stdout",
     "output_type": "stream",
     "text": [
      "['Sunny', 'Cool', 'High', 'Strong']corresponds to YES\n"
     ]
    }
   ],
   "source": [
    "if(NB_pos > NB_neg) : \n",
    "    print(str(case) + \" corresponds to YES\")\n",
    "else:\n",
    "    print(str(case) + \"corresponds to YES\")"
   ]
  }
 ],
 "metadata": {
  "kernelspec": {
   "display_name": "Python 3 (ipykernel)",
   "language": "python",
   "name": "python3"
  },
  "language_info": {
   "codemirror_mode": {
    "name": "ipython",
    "version": 3
   },
   "file_extension": ".py",
   "mimetype": "text/x-python",
   "name": "python",
   "nbconvert_exporter": "python",
   "pygments_lexer": "ipython3",
   "version": "3.10.9"
  }
 },
 "nbformat": 4,
 "nbformat_minor": 5
}
