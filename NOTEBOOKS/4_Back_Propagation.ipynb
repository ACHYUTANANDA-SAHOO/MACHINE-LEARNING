{
 "cells": [
  {
   "cell_type": "markdown",
   "id": "4adcfc06",
   "metadata": {},
   "source": [
    "# Experiment - 4 : Backpropagation Algorithm"
   ]
  },
  {
   "cell_type": "markdown",
   "id": "a4e872d6",
   "metadata": {},
   "source": [
    "Build an Artificial Neural Network by implementing the Backpropagation algorithm and test the same using appropriate data sets."
   ]
  },
  {
   "cell_type": "code",
   "execution_count": 37,
   "id": "7d249365",
   "metadata": {},
   "outputs": [],
   "source": [
    "import numpy as np"
   ]
  },
  {
   "cell_type": "code",
   "execution_count": 38,
   "id": "8400ef00",
   "metadata": {},
   "outputs": [],
   "source": [
    "X = np.array(([2,9],[1,5],[3,6]), dtype = float)\n",
    "Y = np.array(([92],[86],[89]), dtype = float)\n",
    "\n",
    "X = X/np.amax(X,axis = 0)\n",
    "Y = Y/100"
   ]
  },
  {
   "cell_type": "code",
   "execution_count": 39,
   "id": "a506a8ae",
   "metadata": {
    "scrolled": true
   },
   "outputs": [
    {
     "data": {
      "text/plain": [
       "array([[0.66666667, 1.        ],\n",
       "       [0.33333333, 0.55555556],\n",
       "       [1.        , 0.66666667]])"
      ]
     },
     "execution_count": 39,
     "metadata": {},
     "output_type": "execute_result"
    }
   ],
   "source": [
    "X"
   ]
  },
  {
   "cell_type": "code",
   "execution_count": 40,
   "id": "36e6b7df",
   "metadata": {},
   "outputs": [
    {
     "data": {
      "text/plain": [
       "array([[0.92],\n",
       "       [0.86],\n",
       "       [0.89]])"
      ]
     },
     "execution_count": 40,
     "metadata": {},
     "output_type": "execute_result"
    }
   ],
   "source": [
    "Y"
   ]
  },
  {
   "cell_type": "code",
   "execution_count": 41,
   "id": "bf7da120",
   "metadata": {},
   "outputs": [],
   "source": [
    "def sigmoid(x):\n",
    "    return 1/(1 + np.exp(-x))\n",
    "def sigmoid_grad(x):\n",
    "    return x*(1-x)"
   ]
  },
  {
   "cell_type": "code",
   "execution_count": 42,
   "id": "682bb132",
   "metadata": {},
   "outputs": [],
   "source": [
    "epoch = 1000\n",
    "eta = 0.2\n",
    "input_neurons = 2\n",
    "hidden_neurons = 3\n",
    "output_neurons = 1"
   ]
  },
  {
   "cell_type": "code",
   "execution_count": 43,
   "id": "150b5831",
   "metadata": {},
   "outputs": [],
   "source": [
    "wh = np.random.uniform(size=(input_neurons,hidden_neurons))\n",
    "bh = np.random.uniform(size=(1,hidden_neurons))\n",
    "\n",
    "wout = np.random.uniform(size = (hidden_neurons,output_neurons))\n",
    "bout = np.random.uniform(size=(1,output_neurons))"
   ]
  },
  {
   "cell_type": "code",
   "execution_count": 45,
   "id": "d05f391e",
   "metadata": {},
   "outputs": [],
   "source": [
    "for i in range(epoch):\n",
    "    h_ip = np.dot(X,wh) + bh\n",
    "    h_act = sigmoid(h_ip)\n",
    "    o_ip = np.dot(h_act,wout) + bout\n",
    "    output = sigmoid(o_ip)\n",
    "    \n",
    "    Eo = Y - output\n",
    "    outgrad = sigmoid_grad(output)\n",
    "    d_output = Eo*outgrad\n",
    "    \n",
    "    Eh = d_output.dot(wout.T)\n",
    "    hiddengrad = sigmoid_grad(h_act)\n",
    "    d_hidden = Eh * hiddengrad\n",
    "    \n",
    "    wout += h_act.T.dot(d_output)*eta\n",
    "    wh+=X.T.dot(d_output)*eta\n",
    "    "
   ]
  },
  {
   "cell_type": "code",
   "execution_count": 46,
   "id": "48f32a6d",
   "metadata": {},
   "outputs": [
    {
     "name": "stdout",
     "output_type": "stream",
     "text": [
      "Normalized Input : \n",
      " [[0.66666667 1.        ]\n",
      " [0.33333333 0.55555556]\n",
      " [1.         0.66666667]]\n",
      "Actual Output : \n",
      " [[0.92]\n",
      " [0.86]\n",
      " [0.89]]\n",
      "Predicted Output \n",
      ":  [[0.89787544]\n",
      " [0.8758127 ]\n",
      " [0.89648915]]\n"
     ]
    }
   ],
   "source": [
    "print(\"Normalized Input : \\n\", str(X))\n",
    "print(\"Actual Output : \\n\", str(Y))\n",
    "print(\"Predicted Output \\n: \", output)"
   ]
  }
 ],
 "metadata": {
  "kernelspec": {
   "display_name": "Python 3 (ipykernel)",
   "language": "python",
   "name": "python3"
  },
  "language_info": {
   "codemirror_mode": {
    "name": "ipython",
    "version": 3
   },
   "file_extension": ".py",
   "mimetype": "text/x-python",
   "name": "python",
   "nbconvert_exporter": "python",
   "pygments_lexer": "ipython3",
   "version": "3.10.9"
  }
 },
 "nbformat": 4,
 "nbformat_minor": 5
}
