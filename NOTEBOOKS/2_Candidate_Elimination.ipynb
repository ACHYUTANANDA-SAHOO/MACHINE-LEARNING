{
 "cells": [
  {
   "cell_type": "markdown",
   "id": "a3be4a45",
   "metadata": {},
   "source": [
    "# Experiment 2 : Candidate Elimination Algorithm"
   ]
  },
  {
   "cell_type": "markdown",
   "id": "2a1746d6",
   "metadata": {},
   "source": [
    "For a given set of training data examples stored in a .CSV file, implement and demonstrate the\n",
    "Candidate-Elimination algorithm in python to output a description of the set of all hypotheses\n",
    "consistent with the training examples."
   ]
  },
  {
   "cell_type": "markdown",
   "id": "ec624496",
   "metadata": {},
   "source": [
    "### Step 1 : Importing necessary libraries and dataset"
   ]
  },
  {
   "cell_type": "code",
   "execution_count": 122,
   "id": "6db482f3",
   "metadata": {},
   "outputs": [
    {
     "name": "stdout",
     "output_type": "stream",
     "text": [
      "['sunny', 'warm', 'normal', 'strong', 'warm', 'same', 'yes']\n",
      "['sunny', 'warm', 'high', 'strong', 'warm', 'same', 'yes']\n",
      "['rainy', 'cold', 'high', 'strong', 'warm', 'change', 'no']\n",
      "['sunny', 'warm', 'high', 'strong', 'cool', 'change', 'yes']\n"
     ]
    }
   ],
   "source": [
    "import csv\n",
    "a = []\n",
    "\n",
    "with open('enjoysport.csv','r') as dataset:\n",
    "    reader = csv.reader(dataset)\n",
    "    for row in reader:\n",
    "        a.append(row).\n",
    "        print(row)\n",
    "num_attributes = len(a[0]) - 1\n"
   ]
  },
  {
   "cell_type": "markdown",
   "id": "bc5c5c16",
   "metadata": {},
   "source": [
    "### Step 2 : Declaring initial hypothesis - general and specific "
   ]
  },
  {
   "cell_type": "code",
   "execution_count": 123,
   "id": "a1ce06d1",
   "metadata": {},
   "outputs": [
    {
     "name": "stdout",
     "output_type": "stream",
     "text": [
      "Most Specific hypothesis S0 : ['0', '0', '0', '0', '0', '0']\n",
      "Most General hypothesis G0 : ['?', '?', '?', '?', '?', '?']\n"
     ]
    }
   ],
   "source": [
    "s = ['0'] * num_attributes\n",
    "g = ['?'] * num_attributes\n",
    "\n",
    "print(\"Most Specific hypothesis S0 : \" + str(s))\n",
    "print(\"Most General hypothesis G0 : \" + str(g))"
   ]
  },
  {
   "cell_type": "markdown",
   "id": "d0ed65e9",
   "metadata": {},
   "source": [
    "### Step 3 : Creating a version space\n",
    "It will contain the final valid hypothesis for the given data."
   ]
  },
  {
   "cell_type": "code",
   "execution_count": 124,
   "id": "bfa16654",
   "metadata": {},
   "outputs": [],
   "source": [
    "version_space = []"
   ]
  },
  {
   "cell_type": "markdown",
   "id": "1eb4b2a2",
   "metadata": {},
   "source": [
    "### Step 4 : Writing the main algorithm"
   ]
  },
  {
   "cell_type": "code",
   "execution_count": 125,
   "id": "25b8640e",
   "metadata": {},
   "outputs": [
    {
     "name": "stdout",
     "output_type": "stream",
     "text": [
      "Instance 1 +ve \n",
      "S1 ['sunny', 'warm', 'normal', 'strong', 'warm', 'same']\n",
      "G1 []\n",
      "\n",
      "Instance 2 +ve \n",
      "S2 ['sunny', 'warm', '?', 'strong', 'warm', 'same']\n",
      "G2 []\n",
      "\n",
      "Instance 3 -ve \n",
      "S3 ['sunny', 'warm', '?', 'strong', 'warm', 'same']\n",
      "G3\n",
      "[['sunny', '?', '?', '?', '?', '?'], ['?', 'warm', '?', '?', '?', '?'], ['?', '?', '?', '?', '?', 'same']]\n",
      "\n",
      "Instance 4 +ve \n",
      "S4 ['sunny', 'warm', '?', 'strong', '?', '?']\n",
      "G4 [['sunny', '?', '?', '?', '?', '?'], ['?', 'warm', '?', '?', '?', '?']]\n",
      "\n",
      "\n",
      "Final Version Space :  [['sunny', '?', '?', '?', '?', '?'], ['?', 'warm', '?', '?', '?', '?'], ['sunny', 'warm', '?', 'strong', '?', '?']]\n"
     ]
    }
   ],
   "source": [
    "for i in range(0,len(a)):\n",
    "    if(a[i][num_attributes] == 'yes'):\n",
    "        print(\"Instance \" + str(i+1) + \" +ve \")\n",
    "        for j in range(0,num_attributes):\n",
    "            if (s[j] == '0' or s[j] == a[i][j]):\n",
    "                s[j] = a[i][j]\n",
    "            else:\n",
    "                s[j] = '?'\n",
    "        for j in range(0,num_attributes):\n",
    "            for k in range(1,len(version_space)):\n",
    "                if(version_space[k][j] != '?' and version_space[k][j]!=s[j]):\n",
    "                    del version_space[k]\n",
    "        print(\"S\" + str(i+1) , s)\n",
    "        print(\"G\" + str(i+1) , version_space)\n",
    "    if(a[i][num_attributes] == 'no'):\n",
    "        print(\"Instance \" + str(i+1) + \" -ve \")\n",
    "        print(\"S\" + str(i+1),s)\n",
    "        print(\"G\" + str(i+1))\n",
    "        for j in range(0,num_attributes):\n",
    "            if(s[j]!=a[i][j] and s[j] !='?'):\n",
    "                g[j] = s[j]\n",
    "                #appending the generic hypothesis\n",
    "                version_space.append(g)\n",
    "                #resetting the generic hypothesis to [?,?,?,?,?,?]\n",
    "                g = ['?']*num_attributes\n",
    "        print(version_space)\n",
    "    print()\n",
    "\n",
    "# appending the specific hypothesis\n",
    "version_space.append(s)\n",
    "print()\n",
    "print(\"Final Version Space : \" , version_space)\n",
    "\n"
   ]
  }
 ],
 "metadata": {
  "kernelspec": {
   "display_name": "Python 3 (ipykernel)",
   "language": "python",
   "name": "python3"
  },
  "language_info": {
   "codemirror_mode": {
    "name": "ipython",
    "version": 3
   },
   "file_extension": ".py",
   "mimetype": "text/x-python",
   "name": "python",
   "nbconvert_exporter": "python",
   "pygments_lexer": "ipython3",
   "version": "3.10.9"
  }
 },
 "nbformat": 4,
 "nbformat_minor": 5
}
