{
 "cells": [
  {
   "cell_type": "markdown",
   "id": "8f842301",
   "metadata": {},
   "source": [
    "# Experiment 5 : KNN Algorithm"
   ]
  },
  {
   "cell_type": "markdown",
   "id": "411d51d8",
   "metadata": {},
   "source": [
    "Write a program for Implementation of K-Nearest Neighbors (K-NN) in Python"
   ]
  },
  {
   "cell_type": "markdown",
   "id": "3766745a",
   "metadata": {},
   "source": [
    "### Step 1 : Importing Library and dataset\n",
    "\n",
    "The math library will be used to calculate the distances of all instances from the given tagert instance whose result is to be found.\n",
    "'result' consists of 8 instances of student data "
   ]
  },
  {
   "cell_type": "code",
   "execution_count": 2,
   "id": "5b4b9361",
   "metadata": {},
   "outputs": [],
   "source": [
    "import math as m\n",
    "\n",
    "result = [[9.2,85,8,\"pass\"],\n",
    "          [8,80,7,\"pass\"],\n",
    "          [8.5,81,8,\"pass\"],\n",
    "          [6,45,5,\"fail\"],\n",
    "          [6.5,50,4,\"fail\"],\n",
    "          [8.2,72,7,\"pass\"],\n",
    "          [5.8,38,5,\"fail\"],\n",
    "          [8.9,91,9,\"pass\"]]"
   ]
  },
  {
   "cell_type": "markdown",
   "id": "a7a0bc05",
   "metadata": {},
   "source": [
    "### Step 2 : Getting K value from user\n",
    "\n",
    "Here, g consists of the query instance's data. The no. of attibutes is found and a distance list is created to store the distance of every instance from the query."
   ]
  },
  {
   "cell_type": "code",
   "execution_count": 3,
   "id": "2fc07873",
   "metadata": {},
   "outputs": [
    {
     "name": "stdout",
     "output_type": "stream",
     "text": [
      "Enter K : 5\n"
     ]
    }
   ],
   "source": [
    "g = [7.6,60,8]\n",
    "k = int(input(\"Enter K : \"))\n",
    "\n",
    "no_attr = len(result[0]) - 1\n",
    "distance = []"
   ]
  },
  {
   "cell_type": "markdown",
   "id": "3bbef32c",
   "metadata": {},
   "source": [
    "### Step 3 : Finding distances "
   ]
  },
  {
   "cell_type": "code",
   "execution_count": 4,
   "id": "8b5ee774",
   "metadata": {},
   "outputs": [],
   "source": [
    "for i in range(0,len(result)):\n",
    "    x = 0\n",
    "    for j in range(0,no_attr):\n",
    "        x = x + m.pow(g[j]- result[i][j], 2)\n",
    "    #we append the distances of every instance on the main list(result) to use it in future\n",
    "    result[i].append(m.sqrt(x))\n",
    "    distance.append(m.sqrt(x))\n",
    "# we sort the distance list to find the nearest k distances\n",
    "distance.sort()\n"
   ]
  },
  {
   "cell_type": "markdown",
   "id": "2f8d254c",
   "metadata": {},
   "source": [
    "### Step 4  : Finding nearest distances\n",
    "\n",
    "List NN stores the nearest k distances. The pass_ and fail_ variables will store the count of passes and fails corresponding to the nearest neighbours only."
   ]
  },
  {
   "cell_type": "code",
   "execution_count": 5,
   "id": "66069cda",
   "metadata": {},
   "outputs": [],
   "source": [
    "NN = []\n",
    "\n",
    "pass_ = 0\n",
    "fail_ = 0\n",
    "\n",
    "for i in range(0,k):\n",
    "    NN.append(distance[i])\n",
    "\n",
    "for j in range(0,k):\n",
    "    for i in range(0,len(result)):\n",
    "        if(result[i][len(result[0]) - 1] == NN[j]):\n",
    "            if(result[i][len(result[0]) - 2] == \"pass\"):\n",
    "                pass_ = pass_ + 1\n",
    "            else:\n",
    "                fail_ = fail_ + 1"
   ]
  },
  {
   "cell_type": "markdown",
   "id": "e7c54cb3",
   "metadata": {},
   "source": [
    "### Step 5 : Printing the nearest neighbours and result"
   ]
  },
  {
   "cell_type": "code",
   "execution_count": 6,
   "id": "a7e7fcd6",
   "metadata": {},
   "outputs": [
    {
     "name": "stdout",
     "output_type": "stream",
     "text": [
      "Nearest Neighbours (distances): [10.82635672791175, 12.056533498481228, 15.380507143784303, 20.028979005431108, 21.01927686672403]\n",
      "Outcome : Pass\n"
     ]
    }
   ],
   "source": [
    "print(\"Nearest Neighbours (distances): \" + str(NN))\n",
    "\n",
    "if(pass_ > fail_ ):\n",
    "    print(\"Outcome : Pass\")\n",
    "else:\n",
    "    print(\"Outcome : Fail\")"
   ]
  }
 ],
 "metadata": {
  "kernelspec": {
   "display_name": "Python 3 (ipykernel)",
   "language": "python",
   "name": "python3"
  },
  "language_info": {
   "codemirror_mode": {
    "name": "ipython",
    "version": 3
   },
   "file_extension": ".py",
   "mimetype": "text/x-python",
   "name": "python",
   "nbconvert_exporter": "python",
   "pygments_lexer": "ipython3",
   "version": "3.10.9"
  }
 },
 "nbformat": 4,
 "nbformat_minor": 5
}
