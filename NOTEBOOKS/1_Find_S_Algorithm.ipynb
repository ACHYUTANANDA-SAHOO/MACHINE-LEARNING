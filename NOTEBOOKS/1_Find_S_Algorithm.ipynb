{
 "cells": [
  {
   "cell_type": "markdown",
   "id": "fa0374ab",
   "metadata": {},
   "source": [
    "# Experiment 1 : Find S Algorithm"
   ]
  },
  {
   "cell_type": "markdown",
   "id": "8444168c",
   "metadata": {},
   "source": [
    "Implement and demonstrate the FIND-S algorithm for finding the most specific hypothesis based on a given set of training data samples. \n",
    "Read the training data from a .CSV file\n"
   ]
  },
  {
   "cell_type": "markdown",
   "id": "6c497685",
   "metadata": {},
   "source": [
    "### Step 1 : Importing dataset and libraries"
   ]
  },
  {
   "cell_type": "code",
   "execution_count": 5,
   "id": "2de189ae",
   "metadata": {},
   "outputs": [],
   "source": [
    "import csv\n",
    "a = []\n",
    "\n",
    "with open('enjoysport.csv','r') as csvfile:\n",
    "    for i in csv.reader(csvfile):\n",
    "        a.append(i)"
   ]
  },
  {
   "cell_type": "markdown",
   "id": "fefbb036",
   "metadata": {},
   "source": [
    "### Step 2 : Finding total no. of attributes and decalring initial hypothesis"
   ]
  },
  {
   "cell_type": "code",
   "execution_count": 6,
   "id": "e830e28a",
   "metadata": {},
   "outputs": [],
   "source": [
    "num_attribute = len(a[0]) - 1\n",
    "\n",
    "hypothesis = ['0']*num_attribute"
   ]
  },
  {
   "cell_type": "markdown",
   "id": "0332515b",
   "metadata": {},
   "source": [
    "### Step 3 : Main Algorithm"
   ]
  },
  {
   "cell_type": "code",
   "execution_count": 7,
   "id": "ca1a7e7a",
   "metadata": {},
   "outputs": [
    {
     "name": "stdout",
     "output_type": "stream",
     "text": [
      "Initial Hypothesis, H0 : \n",
      "['0', '0', '0', '0', '0', '0']\n",
      "\n",
      "Instance  1 is ['sunny', 'warm', 'normal', 'strong', 'warm', 'same', 'yes'] is +ve\n",
      "Hypothesis  1  :  ['sunny', 'warm', 'normal', 'strong', 'warm', 'same']\n",
      "\n",
      "\n",
      "Instance  2 is ['sunny', 'warm', 'high', 'strong', 'warm', 'same', 'yes'] is +ve\n",
      "Hypothesis  2  :  ['sunny', 'warm', '?', 'strong', 'warm', 'same']\n",
      "\n",
      "\n",
      "Instance  3 is ['rainy', 'cold', 'high', 'strong', 'warm', 'change', 'no'] is -ve \n",
      "\n",
      "Instance  4 is ['sunny', 'warm', 'high', 'strong', 'cool', 'change', 'yes'] is +ve\n",
      "Hypothesis  4  :  ['sunny', 'warm', '?', 'strong', '?', '?']\n",
      "\n",
      "\n",
      "The maximally specific hypothesis is : \n",
      "['sunny', 'warm', '?', 'strong', '?', '?']\n"
     ]
    }
   ],
   "source": [
    "print(\"Initial Hypothesis, H0 : \")\n",
    "print(hypothesis)\n",
    "\n",
    "for i in range(0,len(a)):\n",
    "    if (a[i][num_attribute] == 'yes'):\n",
    "        print(\"\\nInstance \", i+1, \"is\", a[i], \"is +ve\")\n",
    "\n",
    "        for j in range(0,num_attribute):\n",
    "            if (hypothesis[j] == '0' or hypothesis[j] == a[i][j]):\n",
    "                hypothesis[j] = a[i][j]\n",
    "            else :\n",
    "                hypothesis[j] = '?'\n",
    "        \n",
    "        print(\"Hypothesis \" , i+1 , \" : \", hypothesis)\n",
    "        print()\n",
    "    elif(a[i][num_attribute] == 'no'):\n",
    "        print(\"\\nInstance \", i+1, \"is\", a[i], \"is -ve \")\n",
    "\n",
    "print()\n",
    "print(\"The maximally specific hypothesis is : \")\n",
    "print(hypothesis)"
   ]
  }
 ],
 "metadata": {
  "kernelspec": {
   "display_name": "Python 3 (ipykernel)",
   "language": "python",
   "name": "python3"
  },
  "language_info": {
   "codemirror_mode": {
    "name": "ipython",
    "version": 3
   },
   "file_extension": ".py",
   "mimetype": "text/x-python",
   "name": "python",
   "nbconvert_exporter": "python",
   "pygments_lexer": "ipython3",
   "version": "3.10.9"
  }
 },
 "nbformat": 4,
 "nbformat_minor": 5
}
