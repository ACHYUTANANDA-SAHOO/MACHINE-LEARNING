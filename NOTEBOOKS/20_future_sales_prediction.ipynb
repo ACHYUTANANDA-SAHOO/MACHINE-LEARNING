{
 "cells": [
  {
   "cell_type": "code",
   "execution_count": 6,
   "id": "be8f0bc4",
   "metadata": {},
   "outputs": [
    {
     "name": "stdout",
     "output_type": "stream",
     "text": [
      "Corelations : \n",
      "Sales        1.000000\n",
      "TV           0.901208\n",
      "Radio        0.349631\n",
      "Newspaper    0.157960\n",
      "Name: Sales, dtype: float64\n",
      "Score :  0.9059011844150826\n",
      "[21.37254028]\n"
     ]
    },
    {
     "name": "stderr",
     "output_type": "stream",
     "text": [
      "C:\\Users\\SAHOO\\AppData\\Local\\Temp\\ipykernel_19440\\936618579.py:28: FutureWarning:\n",
      "\n",
      "In a future version of pandas all arguments of DataFrame.drop except for the argument 'labels' will be keyword-only.\n",
      "\n"
     ]
    }
   ],
   "source": [
    "import pandas as pd\n",
    "import numpy as np\n",
    "from sklearn.model_selection import train_test_split\n",
    "from sklearn.linear_model import LinearRegression\n",
    "import plotly.io as io\n",
    "io.renderers.default='browser'\n",
    "\n",
    "data = pd.read_csv(\"futuresale prediction.csv\")\n",
    "#print(data.head())\n",
    "\n",
    "\n",
    "#print(data.sample(5))\n",
    "#print(data.isnull().sum())\n",
    "import plotly.express as px\n",
    "import plotly.graph_objects as go\n",
    "figure = px.scatter(data_frame = data, x=\"Sales\",\n",
    "                    y=\"TV\", size=\"TV\", trendline=\"ols\")\n",
    "#figure.show()\n",
    "figure = px.scatter(data_frame = data, x=\"Sales\",\n",
    "                    y=\"Newspaper\", size=\"Newspaper\", trendline=\"ols\")\n",
    "#figure.show()\n",
    "figure = px.scatter(data_frame = data, x=\"Sales\",\n",
    "                    y=\"Radio\", size=\"Radio\", trendline=\"ols\")\n",
    "#figure.show()\n",
    "correlation = data.corr()\n",
    "print(\"Corelations : \")\n",
    "print(correlation[\"Sales\"].sort_values(ascending=False))\n",
    "x = np.array(data.drop([\"Sales\"], 1))\n",
    "y = np.array(data[\"Sales\"])\n",
    "xtrain, xtest, ytrain, ytest = train_test_split(x, y, \n",
    "                                                test_size=0.2, \n",
    "                                                random_state=42)\n",
    "model = LinearRegression()\n",
    "model.fit(xtrain, ytrain)\n",
    "print(\"Score : \", model.score(xtest, ytest))\n",
    "features = [[\"TV\", \"Radio\", \"Newspaper\"]]\n",
    "features = np.array([[230.1, 37.8, 69.2]])\n",
    "print(model.predict(features))\n"
   ]
  }
 ],
 "metadata": {
  "kernelspec": {
   "display_name": "Python 3 (ipykernel)",
   "language": "python",
   "name": "python3"
  },
  "language_info": {
   "codemirror_mode": {
    "name": "ipython",
    "version": 3
   },
   "file_extension": ".py",
   "mimetype": "text/x-python",
   "name": "python",
   "nbconvert_exporter": "python",
   "pygments_lexer": "ipython3",
   "version": "3.10.9"
  }
 },
 "nbformat": 4,
 "nbformat_minor": 5
}
